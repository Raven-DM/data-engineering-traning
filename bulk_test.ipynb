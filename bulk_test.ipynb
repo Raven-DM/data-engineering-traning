{
 "cells": [
  {
   "cell_type": "markdown",
   "id": "a301d9bb",
   "metadata": {},
   "source": [
    "Algoritma\n",
    "1. Glob baca semua file pada direktori (data/retail_db/*/part-*)\n",
    "2. Tentukan direktori dan file asal yang akan dibaca (retail_db/orders/part-00000)\n",
    "3. Load Dataframe (read_csv) dan tampilkan masing-masing shapenya\n",
    "4. Tulis setiap dataframe dalam bentuk json ke target direktori dan file"
   ]
  },
  {
   "cell_type": "code",
   "execution_count": 4,
   "id": "1ff61e1b",
   "metadata": {},
   "outputs": [],
   "source": [
    "import os\n",
    "import glob\n",
    "import json\n",
    "import re\n",
    "import pandas as pd"
   ]
  },
  {
   "cell_type": "code",
   "execution_count": 5,
   "id": "bf835e20",
   "metadata": {},
   "outputs": [],
   "source": [
    "src_file_names = glob.glob('./data/retail_db/*/part-*')"
   ]
  },
  {
   "cell_type": "code",
   "execution_count": 6,
   "id": "afc9bd1e",
   "metadata": {},
   "outputs": [
    {
     "data": {
      "text/plain": [
       "<_io.TextIOWrapper name='./data/retail_db/schemas.json' mode='r' encoding='cp1252'>"
      ]
     },
     "execution_count": 6,
     "metadata": {},
     "output_type": "execute_result"
    }
   ],
   "source": [
    "file_path = './data/retail_db/schemas.json'\n",
    "open(file_path, 'r')"
   ]
  },
  {
   "cell_type": "code",
   "execution_count": 7,
   "id": "552afc14",
   "metadata": {},
   "outputs": [],
   "source": [
    "schemas = json.load(open(file_path, 'r'))"
   ]
  },
  {
   "cell_type": "code",
   "execution_count": 8,
   "id": "2c6fa7df",
   "metadata": {},
   "outputs": [],
   "source": [
    "def get_column_names(schemas, table, key = 'column_position'):\n",
    "    column_details = schemas[table]\n",
    "    columns = sorted(column_details, key = lambda col: int(col[key]))\n",
    "    return [col['column_name'] for col in columns]"
   ]
  },
  {
   "cell_type": "code",
   "execution_count": null,
   "id": "567604e8",
   "metadata": {},
   "outputs": [
    {
     "name": "stdout",
     "output_type": "stream",
     "text": [
      "categories | shape(58, 3)\n",
      "customers | shape(12435, 9)\n",
      "departments | shape(6, 2)\n",
      "orders | shape(68883, 4)\n",
      "order_items | shape(172198, 6)\n",
      "products | shape(1345, 6)\n"
     ]
    }
   ],
   "source": [
    "# 1. Glob read all files\n",
    "for file in src_file_names:\n",
    "    table_name = re.split('[/\\\\\\\\]', file)[3]\n",
    "    df = pd.read_csv(file, header=None, names=get_column_names(schemas, table_name))\n",
    "    print(f\"{table_name} | shape{df.shape}\")"
   ]
  },
  {
   "cell_type": "code",
   "execution_count": null,
   "id": "353fe9e7",
   "metadata": {},
   "outputs": [
    {
     "name": "stdout",
     "output_type": "stream",
     "text": [
      "./data/retail_db_json/categories/part-00000\n",
      "./data/retail_db_json/customers/part-00000\n",
      "./data/retail_db_json/departments/part-00000\n",
      "./data/retail_db_json/orders/part-00000\n",
      "./data/retail_db_json/order_items/part-00000\n",
      "./data/retail_db_json/products/part-00000\n"
     ]
    }
   ],
   "source": [
    "# 2. Define source directory and file\n",
    "# target dir\n",
    "target_base_dir = './data/retail_db_json'\n",
    "\n",
    "for file in src_file_names:\n",
    "    file_path = re.split('[/\\\\\\\\]', file)\n",
    "    table_name = file_path[-2]\n",
    "    file_name = file_path[-1]\n",
    "    print(f'{target_base_dir}/{table_name}/{file_name}')"
   ]
  },
  {
   "cell_type": "code",
   "execution_count": null,
   "id": "da49c648",
   "metadata": {},
   "outputs": [
    {
     "name": "stdout",
     "output_type": "stream",
     "text": [
      "Processing ./data/retail_db_json/categories-2/part-00000\n",
      "Processing ./data/retail_db_json/customers-2/part-00000\n",
      "Processing ./data/retail_db_json/departments-2/part-00000\n",
      "Processing ./data/retail_db_json/orders-2/part-00000\n",
      "Processing ./data/retail_db_json/order_items-2/part-00000\n",
      "Processing ./data/retail_db_json/products-2/part-00000\n"
     ]
    }
   ],
   "source": [
    "# 3. Load to dataframe\n",
    "for file in src_file_names:\n",
    "    file_path = re.split('[/\\\\\\\\]', file)\n",
    "    table_name = file_path[-2]\n",
    "    file_name = file_path[-1]\n",
    "    json_file_path = f'{target_base_dir}/{table_name}/{file_name}'\n",
    "    print(f'Processing {json_file_path}')\n",
    "    df = pd.read_csv(file, header=None, names=get_column_names(schemas, table_name))\n",
    "    # os.makedirs(os.path.dirname(json_file_path), exist_ok=True)\n",
    "    # df.to_json(json_file_path, orient='records', lines=True)"
   ]
  },
  {
   "cell_type": "code",
   "execution_count": null,
   "id": "90830eaa",
   "metadata": {},
   "outputs": [
    {
     "name": "stdout",
     "output_type": "stream",
     "text": [
      "Processing ./data/retail_db_json/categories/part-00000\n",
      "Processing ./data/retail_db_json/customers/part-00000\n",
      "Processing ./data/retail_db_json/departments/part-00000\n",
      "Processing ./data/retail_db_json/orders/part-00000\n",
      "Processing ./data/retail_db_json/order_items/part-00000\n",
      "Processing ./data/retail_db_json/products/part-00000\n"
     ]
    }
   ],
   "source": [
    "# 4. save/export dataframe to JSON\n",
    "for file in src_file_names:\n",
    "    file_path = re.split('[/\\\\\\\\]', file)\n",
    "    table_name = file_path[-2]\n",
    "    file_name = file_path[-1]\n",
    "    json_file_path = f'{target_base_dir}/{table_name}/{file_name}'\n",
    "    print(f'Processing {json_file_path}')\n",
    "    df = pd.read_csv(file, header=None, names=get_column_names(schemas, table_name))\n",
    "    os.makedirs(f'{target_base_dir}/{table_name}', exist_ok=True)\n",
    "    df.to_json(json_file_path, orient='records', lines=True)"
   ]
  }
 ],
 "metadata": {
  "kernelspec": {
   "display_name": ".venv",
   "language": "python",
   "name": "python3"
  },
  "language_info": {
   "codemirror_mode": {
    "name": "ipython",
    "version": 3
   },
   "file_extension": ".py",
   "mimetype": "text/x-python",
   "name": "python",
   "nbconvert_exporter": "python",
   "pygments_lexer": "ipython3",
   "version": "3.13.3"
  }
 },
 "nbformat": 4,
 "nbformat_minor": 5
}

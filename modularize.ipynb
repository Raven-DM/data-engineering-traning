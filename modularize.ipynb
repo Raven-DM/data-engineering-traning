{
 "cells": [
  {
   "cell_type": "code",
   "execution_count": 11,
   "id": "674e5764",
   "metadata": {},
   "outputs": [],
   "source": [
    "import os\n",
    "import glob\n",
    "import json\n",
    "import re\n",
    "import pandas as pd"
   ]
  },
  {
   "cell_type": "code",
   "execution_count": 12,
   "id": "127e6f23",
   "metadata": {},
   "outputs": [],
   "source": [
    "def get_column_names(schemas, table, key = 'column_position'):\n",
    "    column_details = schemas[table]\n",
    "    columns = sorted(column_details, key = lambda col: int(col[key]))\n",
    "    return [col['column_name'] for col in columns]"
   ]
  },
  {
   "cell_type": "code",
   "execution_count": 13,
   "id": "03605384",
   "metadata": {},
   "outputs": [],
   "source": [
    "def read_csv(file,schemas):\n",
    "    file_path = re.split('[/\\\\\\\\]', file)\n",
    "    table_name = file_path[-2]\n",
    "    return pd.read_csv(file, header=None, names=get_column_names(schemas, table_name))    "
   ]
  },
  {
   "cell_type": "code",
   "execution_count": 14,
   "id": "79f1bf1c",
   "metadata": {},
   "outputs": [],
   "source": [
    "def to_json(df, target_base_dir, table_name, file_name):\n",
    "    json_file_path = f'{target_base_dir}/{table_name}/{file_name}'\n",
    "    print(f'Processing {json_file_path}')\n",
    "    os.makedirs(f'{target_base_dir}/{table_name}', exist_ok=True)\n",
    "    df.to_json(json_file_path, orient='records', lines=True)    "
   ]
  },
  {
   "cell_type": "code",
   "execution_count": 15,
   "id": "555633e1",
   "metadata": {},
   "outputs": [],
   "source": [
    "def file_converter(src_base_dir, target_base_dir, table_name):\n",
    "    schemas = json.load(open(f'{src_base_dir}/schemas.json'))\n",
    "    files = glob.glob(f'{src_base_dir}/{table_name}/part-*')\n",
    "    for file in files:\n",
    "        df = read_csv(file, schemas)\n",
    "        file_name = re.split('[/\\\\\\\\]', file)[-1]\n",
    "        to_json(df, target_base_dir, table_name, file_name)"
   ]
  },
  {
   "cell_type": "code",
   "execution_count": 16,
   "id": "d5a55669",
   "metadata": {},
   "outputs": [],
   "source": [
    "def process_files():\n",
    "    src_base_dir = 'data/retail_db'\n",
    "    target_base_dir = 'data/retail_db_json'\n",
    "    schemas = json.load(open(f'{src_base_dir}/schemas.json'))\n",
    "    table_names = schemas.keys()\n",
    "    for table_name in table_names:\n",
    "        print(f'Processing table: {table_name}')\n",
    "        file_converter(src_base_dir, target_base_dir, table_name)"
   ]
  },
  {
   "cell_type": "code",
   "execution_count": 17,
   "id": "80fe080a",
   "metadata": {},
   "outputs": [
    {
     "name": "stdout",
     "output_type": "stream",
     "text": [
      "Processing table: departments\n",
      "Processing data/retail_db_json/departments/part-00000\n",
      "Processing table: categories\n",
      "Processing data/retail_db_json/categories/part-00000\n",
      "Processing table: orders\n",
      "Processing data/retail_db_json/orders/part-00000\n",
      "Processing table: products\n",
      "Processing data/retail_db_json/products/part-00000\n",
      "Processing table: customers\n",
      "Processing data/retail_db_json/customers/part-00000\n",
      "Processing table: order_items\n",
      "Processing data/retail_db_json/order_items/part-00000\n"
     ]
    }
   ],
   "source": [
    "process_files()"
   ]
  }
 ],
 "metadata": {
  "kernelspec": {
   "display_name": ".venv",
   "language": "python",
   "name": "python3"
  },
  "language_info": {
   "codemirror_mode": {
    "name": "ipython",
    "version": 3
   },
   "file_extension": ".py",
   "mimetype": "text/x-python",
   "name": "python",
   "nbconvert_exporter": "python",
   "pygments_lexer": "ipython3",
   "version": "3.13.3"
  }
 },
 "nbformat": 4,
 "nbformat_minor": 5
}

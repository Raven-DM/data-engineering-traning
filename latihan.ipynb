{
 "cells": [
  {
   "cell_type": "code",
   "execution_count": 1,
   "id": "112ac145",
   "metadata": {},
   "outputs": [
    {
     "name": "stdout",
     "output_type": "stream",
     "text": [
      "HALO DUNIA\n"
     ]
    }
   ],
   "source": [
    "print(\"HALO DUNIA\")"
   ]
  },
  {
   "cell_type": "code",
   "execution_count": null,
   "id": "c91359e1",
   "metadata": {},
   "outputs": [
    {
     "name": "stdout",
     "output_type": "stream",
     "text": [
      "[1, 2, 'xyz', 3.14]\n",
      "[1, 2]\n",
      "[1, 2]\n",
      "3.14\n"
     ]
    }
   ],
   "source": [
    "list = [1, 2, 'xyz', 3.14]\n",
    "print(list)\n",
    "print(list[0:2])\n",
    "print(list[:2])\n",
    "print(list[-1])"
   ]
  },
  {
   "cell_type": "code",
   "execution_count": 8,
   "id": "f2b46f81",
   "metadata": {},
   "outputs": [
    {
     "name": "stdout",
     "output_type": "stream",
     "text": [
      "[1, 2, 'xyz']\n"
     ]
    }
   ],
   "source": [
    "del list[-1]\n",
    "print(list)"
   ]
  },
  {
   "cell_type": "code",
   "execution_count": 13,
   "id": "a59e038a",
   "metadata": {},
   "outputs": [
    {
     "name": "stdout",
     "output_type": "stream",
     "text": [
      "Elemen ke-0 adalah 1\n",
      "Elemen ke-0 adalah 2\n",
      "Elemen ke-0 adalah xyz\n"
     ]
    }
   ],
   "source": [
    "i = 0\n",
    "for elemen in list:\n",
    "    print(f\"Elemen ke-{i} adalah {elemen}\")"
   ]
  },
  {
   "cell_type": "code",
   "execution_count": 18,
   "id": "c377d490",
   "metadata": {},
   "outputs": [
    {
     "name": "stdout",
     "output_type": "stream",
     "text": [
      "1\n",
      "2\n",
      "3\n",
      "4\n",
      "5\n",
      "6\n",
      "7\n",
      "8\n",
      "9\n"
     ]
    }
   ],
   "source": [
    "for i in range (1, 10):\n",
    "    print(i)"
   ]
  },
  {
   "cell_type": "code",
   "execution_count": null,
   "id": "b7f366a9",
   "metadata": {},
   "outputs": [
    {
     "name": "stdout",
     "output_type": "stream",
     "text": [
      "Elemen ke-0 adalah 1\n",
      "Elemen ke-1 adalah 2\n",
      "Elemen ke-2 adalah xyz\n"
     ]
    }
   ],
   "source": [
    "for i in range(len(list)):\n",
    "    print(f\"Elemen ke-{i} adalah {list[i]}\")"
   ]
  },
  {
   "cell_type": "code",
   "execution_count": 17,
   "id": "6ba81567",
   "metadata": {},
   "outputs": [
    {
     "data": {
      "text/plain": [
       "[1, 4, 9, 16, 25, 36, 49, 64, 81, 100]"
      ]
     },
     "execution_count": 17,
     "metadata": {},
     "output_type": "execute_result"
    }
   ],
   "source": [
    "# [ expr for element in iterable]\n",
    "[i for i in range(1,11)]\n",
    "[i**2 for i in range(1,11)]"
   ]
  },
  {
   "cell_type": "code",
   "execution_count": 22,
   "id": "62a8dfe8",
   "metadata": {},
   "outputs": [
    {
     "data": {
      "text/plain": [
       "[2, 4, 6, 8, 10]"
      ]
     },
     "execution_count": 22,
     "metadata": {},
     "output_type": "execute_result"
    }
   ],
   "source": [
    "[num for num in range(1, 11) if num % 2 == 0]"
   ]
  },
  {
   "cell_type": "code",
   "execution_count": null,
   "id": "a485dd51",
   "metadata": {},
   "outputs": [
    {
     "name": "stdout",
     "output_type": "stream",
     "text": [
      "['Genap', 'Ganjil', 'Genap', 'Ganjil', 'Genap', 'Ganjil', 'Genap', 'Ganjil']\n"
     ]
    }
   ],
   "source": [
    "gan_gen = []\n",
    "plat_mobil = [2222, 3333, 4444, 5555, 6666, 7777, 8888, 9999]\n",
    "\n",
    "for i in plat_mobil:\n",
    "    if i % 2 == 0:\n",
    "        gan_gen.append(\"Genap\")\n",
    "    else:\n",
    "        gan_gen.append(\"Ganjil\")\n",
    "\n",
    "print(gan_gen)\n"
   ]
  },
  {
   "cell_type": "code",
   "execution_count": 32,
   "id": "9a445637",
   "metadata": {},
   "outputs": [
    {
     "data": {
      "text/plain": [
       "['genap', 'ganjil', 'genap', 'ganjil', 'genap', 'ganjil', 'genap', 'ganjil']"
      ]
     },
     "execution_count": 32,
     "metadata": {},
     "output_type": "execute_result"
    }
   ],
   "source": [
    "['genap' if i % 2 == 0 else 'ganjil' for i in plat_mobil]"
   ]
  },
  {
   "cell_type": "code",
   "execution_count": 33,
   "id": "bdb65927",
   "metadata": {},
   "outputs": [
    {
     "name": "stdout",
     "output_type": "stream",
     "text": [
      "0 apple\n",
      "1 banana\n",
      "2 cherry\n"
     ]
    }
   ],
   "source": [
    "fruits = [\"apple\", \"banana\", \"cherry\"]\n",
    "for index, fruit in enumerate(fruits):\n",
    "    print(index, fruit)"
   ]
  },
  {
   "cell_type": "code",
   "execution_count": 34,
   "id": "8cbee471",
   "metadata": {},
   "outputs": [
    {
     "name": "stdout",
     "output_type": "stream",
     "text": [
      "h\n",
      "e\n",
      "l\n",
      "l\n",
      "o\n",
      " \n",
      "w\n",
      "o\n",
      "r\n",
      "l\n",
      "d\n",
      "!\n"
     ]
    }
   ],
   "source": [
    "str = 'hello world!'\n",
    "\n",
    "for huruf in str:\n",
    "    print(huruf)"
   ]
  },
  {
   "cell_type": "code",
   "execution_count": 35,
   "id": "b02dd3dc",
   "metadata": {},
   "outputs": [
    {
     "name": "stdout",
     "output_type": "stream",
     "text": [
      "['hello', 'world!']\n"
     ]
    }
   ],
   "source": [
    "tampung = str.split()\n",
    "print(tampung)"
   ]
  },
  {
   "cell_type": "code",
   "execution_count": 40,
   "id": "6d58b5fd",
   "metadata": {},
   "outputs": [
    {
     "data": {
      "text/plain": [
       "['1', '200-10-01 00:00:00.0', '1', 'COMPLETE']"
      ]
     },
     "execution_count": 40,
     "metadata": {},
     "output_type": "execute_result"
    }
   ],
   "source": [
    "order = '1,200-10-01 00:00:00.0,1,COMPLETE'\n",
    "order.split(',')"
   ]
  },
  {
   "cell_type": "code",
   "execution_count": 43,
   "id": "9a7203d1",
   "metadata": {},
   "outputs": [
    {
     "data": {
      "text/plain": [
       "'200-10-01 00:00:00.0'"
      ]
     },
     "execution_count": 43,
     "metadata": {},
     "output_type": "execute_result"
    }
   ],
   "source": [
    "order.split(',')[1]"
   ]
  },
  {
   "cell_type": "code",
   "execution_count": 42,
   "id": "ce388882",
   "metadata": {},
   "outputs": [
    {
     "data": {
      "text/plain": [
       "'COMPLETE'"
      ]
     },
     "execution_count": 42,
     "metadata": {},
     "output_type": "execute_result"
    }
   ],
   "source": [
    "order.split(',')[-1]"
   ]
  },
  {
   "cell_type": "code",
   "execution_count": 46,
   "id": "6232fc82",
   "metadata": {},
   "outputs": [
    {
     "data": {
      "text/plain": [
       "'complete'"
      ]
     },
     "execution_count": 46,
     "metadata": {},
     "output_type": "execute_result"
    }
   ],
   "source": [
    "order.split(',')[-1].lower()"
   ]
  },
  {
   "cell_type": "code",
   "execution_count": 47,
   "id": "6f8ca14a",
   "metadata": {},
   "outputs": [
    {
     "data": {
      "text/plain": [
       "1"
      ]
     },
     "execution_count": 47,
     "metadata": {},
     "output_type": "execute_result"
    }
   ],
   "source": [
    "int(order.split(',')[0])"
   ]
  },
  {
   "cell_type": "code",
   "execution_count": null,
   "id": "c67bcf27",
   "metadata": {},
   "outputs": [
    {
     "ename": "TypeError",
     "evalue": "'tuple' object doesn't support item deletion",
     "output_type": "error",
     "traceback": [
      "\u001b[31m---------------------------------------------------------------------------\u001b[39m",
      "\u001b[31mTypeError\u001b[39m                                 Traceback (most recent call last)",
      "\u001b[36mCell\u001b[39m\u001b[36m \u001b[39m\u001b[32mIn[48]\u001b[39m\u001b[32m, line 3\u001b[39m\n\u001b[32m      1\u001b[39m tup1 = (\u001b[33m\"\u001b[39m\u001b[33mRohan\u001b[39m\u001b[33m\"\u001b[39m, \u001b[33m\"\u001b[39m\u001b[33mPhysics\u001b[39m\u001b[33m\"\u001b[39m, \u001b[32m21\u001b[39m, \u001b[32m69.75\u001b[39m)\n\u001b[32m----> \u001b[39m\u001b[32m3\u001b[39m \u001b[38;5;28;01mdel\u001b[39;00m \u001b[43mtup1\u001b[49m\u001b[43m[\u001b[49m\u001b[32;43m1\u001b[39;49m\u001b[43m]\u001b[49m\n",
      "\u001b[31mTypeError\u001b[39m: 'tuple' object doesn't support item deletion"
     ]
    }
   ],
   "source": [
    "tup1 = (\"Rohan\", \"Physics\", 21, 69.75)\n",
    "\n",
    "del tup1[0]"
   ]
  },
  {
   "cell_type": "code",
   "execution_count": 49,
   "id": "2aa9f80f",
   "metadata": {},
   "outputs": [
    {
     "name": "stdout",
     "output_type": "stream",
     "text": [
      "{1, 2, 3, 4, 5}\n"
     ]
    }
   ],
   "source": [
    "my_set = {1, 2, 2, 3, 3, 4, 5, 5}\n",
    "print (my_set)"
   ]
  },
  {
   "cell_type": "code",
   "execution_count": 50,
   "id": "87d5cc47",
   "metadata": {},
   "outputs": [
    {
     "name": "stdout",
     "output_type": "stream",
     "text": [
      "{'Name': 'Sachin Tendulkar', 'Age': 48, 'Sport': 'Cricket'}\n"
     ]
    }
   ],
   "source": [
    "sport_player = {\n",
    "    \"Name\": \"Sachin Tendulkar\",\n",
    "    \"Age\": 48,\n",
    "    \"Sport\": \"Cricket\"\n",
    "}\n",
    "\n",
    "print(sport_player)"
   ]
  },
  {
   "cell_type": "code",
   "execution_count": 52,
   "id": "47215cce",
   "metadata": {},
   "outputs": [
    {
     "name": "stdout",
     "output_type": "stream",
     "text": [
      "{'name': 'Alice', 'age': 21, 'major': 'Computer Science', 'graduation_year': 2023}\n"
     ]
    }
   ],
   "source": [
    "student_info = dict(name = \"Alice\", age=21, major=\"Computer Science\", graduation_year=2023)\n",
    "print(student_info)"
   ]
  },
  {
   "cell_type": "code",
   "execution_count": 58,
   "id": "a50ea2f5",
   "metadata": {},
   "outputs": [
    {
     "name": "stdout",
     "output_type": "stream",
     "text": [
      "Keys: name\n",
      "Keys: age\n",
      "Keys: major\n",
      "Keys: graduation_year\n"
     ]
    }
   ],
   "source": [
    "for key in student_info:\n",
    "    print(\"Keys:\", key)"
   ]
  },
  {
   "cell_type": "code",
   "execution_count": 55,
   "id": "3cb2376b",
   "metadata": {},
   "outputs": [
    {
     "name": "stdout",
     "output_type": "stream",
     "text": [
      "Values: Alice\n",
      "Values: 21\n",
      "Values: Computer Science\n",
      "Values: 2023\n"
     ]
    }
   ],
   "source": [
    "for value in student_info.values():\n",
    "    print(\"Values:\", value)"
   ]
  },
  {
   "cell_type": "code",
   "execution_count": 57,
   "id": "260cd2cd",
   "metadata": {},
   "outputs": [
    {
     "name": "stdout",
     "output_type": "stream",
     "text": [
      "name : Alice\n",
      "age : 21\n",
      "major : Computer Science\n",
      "graduation_year : 2023\n"
     ]
    }
   ],
   "source": [
    "for key, value in student_info.items():\n",
    "    print(key, \":\", value)"
   ]
  },
  {
   "cell_type": "code",
   "execution_count": null,
   "id": "10bb475e",
   "metadata": {},
   "outputs": [],
   "source": [
    "orderd = {\n",
    "    'order_id': 1,\n",
    "    'order_date': '2013-07-25 00:00:00.0',\n",
    "    'order_customer_id': 11599,\n",
    "    'order_status':'CLOSED'\n",
    "}"
   ]
  },
  {
   "cell_type": "code",
   "execution_count": 60,
   "id": "47b88759",
   "metadata": {},
   "outputs": [
    {
     "name": "stdout",
     "output_type": "stream",
     "text": [
      "Keys: order_id\n",
      "Keys: order_date\n",
      "Keys: order_customer_id\n",
      "Keys: order_status\n"
     ]
    }
   ],
   "source": [
    "# Tampilkan semua keys\n",
    "for key in orderd:\n",
    "    print(\"Keys:\", key)"
   ]
  },
  {
   "cell_type": "code",
   "execution_count": 61,
   "id": "fe0608cb",
   "metadata": {},
   "outputs": [
    {
     "name": "stdout",
     "output_type": "stream",
     "text": [
      "Values: 1\n",
      "Values: 2013-07-25 00:00:00.0\n",
      "Values: 11599\n",
      "Values: CLOSED\n"
     ]
    }
   ],
   "source": [
    "# Tampilkan semua values\n",
    "for value in orderd.values():\n",
    "    print(\"Values:\", value)"
   ]
  },
  {
   "cell_type": "code",
   "execution_count": 68,
   "id": "171ba291",
   "metadata": {},
   "outputs": [
    {
     "name": "stdout",
     "output_type": "stream",
     "text": [
      "11599\n"
     ]
    }
   ],
   "source": [
    "# Ambil order_customer_id\n",
    "order_customer_id = orderd['order_customer_id']\n",
    "print(order_customer_id)"
   ]
  },
  {
   "cell_type": "code",
   "execution_count": 70,
   "id": "ae05030b",
   "metadata": {},
   "outputs": [
    {
     "data": {
      "text/plain": [
       "11599"
      ]
     },
     "execution_count": 70,
     "metadata": {},
     "output_type": "execute_result"
    }
   ],
   "source": [
    "orderd.get('order_customer_id')"
   ]
  },
  {
   "cell_type": "code",
   "execution_count": 69,
   "id": "9551859b",
   "metadata": {},
   "outputs": [
    {
     "name": "stdout",
     "output_type": "stream",
     "text": [
      "Key:  order_id, Value:  1, Type: <class 'int'>\n",
      "Key:  order_date, Value:  2013-07-25 00:00:00.0, Type: <class 'str'>\n",
      "Key:  order_customer_id, Value:  11599, Type: <class 'int'>\n",
      "Key:  order_status, Value:  CLOSED, Type: <class 'str'>\n"
     ]
    }
   ],
   "source": [
    "# Iterate dan tampilkan keys, values, dan tipe data\n",
    "for key, value in orderd.items():\n",
    "    print(f\"Key:  {key}, Value:  {value}, Type: {type(value)}\")"
   ]
  },
  {
   "cell_type": "code",
   "execution_count": 71,
   "id": "e529fe48",
   "metadata": {},
   "outputs": [],
   "source": [
    "students = {\n",
    "    \"Alice\": {\"age\": 21, \"major\": \"Computer Science\"},\n",
    "    \"Bob\": {\"age\": 20, \"major\": \"Engineering\"},\n",
    "    \"Charlie\": {\"age\": 22, \"major\": \"Mathematics\"}\n",
    "}"
   ]
  },
  {
   "cell_type": "code",
   "execution_count": 72,
   "id": "71f223db",
   "metadata": {},
   "outputs": [
    {
     "data": {
      "text/plain": [
       "{'age': 20, 'major': 'Engineering'}"
      ]
     },
     "execution_count": 72,
     "metadata": {},
     "output_type": "execute_result"
    }
   ],
   "source": [
    "# Tampilkan data Bob\n",
    "students[\"Bob\"]"
   ]
  },
  {
   "cell_type": "code",
   "execution_count": 74,
   "id": "be3e5799",
   "metadata": {},
   "outputs": [
    {
     "data": {
      "text/plain": [
       "21"
      ]
     },
     "execution_count": 74,
     "metadata": {},
     "output_type": "execute_result"
    }
   ],
   "source": [
    "# Tampilkan umur Alice\n",
    "students[\"Alice\"].get('age')"
   ]
  },
  {
   "cell_type": "code",
   "execution_count": 77,
   "id": "9510c805",
   "metadata": {},
   "outputs": [
    {
     "data": {
      "text/plain": [
       "21"
      ]
     },
     "execution_count": 77,
     "metadata": {},
     "output_type": "execute_result"
    }
   ],
   "source": [
    "students[\"Alice\"]['age']"
   ]
  },
  {
   "cell_type": "code",
   "execution_count": 79,
   "id": "8fae9342",
   "metadata": {},
   "outputs": [
    {
     "data": {
      "text/plain": [
       "'Data Science'"
      ]
     },
     "execution_count": 79,
     "metadata": {},
     "output_type": "execute_result"
    }
   ],
   "source": [
    "# Ubah major Charlie menjadi 'Data Science'\n",
    "students[\"Charlie\"]['major'] = 'Data Science'\n",
    "students[\"Charlie\"]['major']"
   ]
  },
  {
   "cell_type": "code",
   "execution_count": 82,
   "id": "7c8dff10",
   "metadata": {},
   "outputs": [
    {
     "name": "stdout",
     "output_type": "stream",
     "text": [
      "Alice,{'age': 21, 'major': 'Computer Science'}\n",
      "Bob,{'age': 20, 'major': 'Engineering'}\n",
      "Charlie,{'age': 22, 'major': 'Data Science'}\n"
     ]
    }
   ],
   "source": [
    "# Iterate dan tampilkan nama mahasiswa dan semua datanya\n",
    "for name, data in students.items():\n",
    "    print(f\"{name},{data}\")"
   ]
  },
  {
   "cell_type": "code",
   "execution_count": 87,
   "id": "fd78980a",
   "metadata": {},
   "outputs": [
    {
     "name": "stdout",
     "output_type": "stream",
     "text": [
      "Nama: Alice\n",
      "age: 21\n",
      "major: Computer Science\n",
      "\n",
      "Nama: Bob\n",
      "age: 20\n",
      "major: Engineering\n",
      "\n",
      "Nama: Charlie\n",
      "age: 22\n",
      "major: Data Science\n",
      "\n"
     ]
    }
   ],
   "source": [
    "for name, details in students.items():\n",
    "    print(f'Nama: {name}')\n",
    "    for key, value in details.items():\n",
    "        print(f'{key}: {value}')\n",
    "    print()"
   ]
  },
  {
   "cell_type": "code",
   "execution_count": null,
   "id": "d49644b4",
   "metadata": {},
   "outputs": [
    {
     "data": {
      "text/plain": [
       "25"
      ]
     },
     "execution_count": 2,
     "metadata": {},
     "output_type": "execute_result"
    }
   ],
   "source": [
    "# fungsi biasa\n",
    "def kuadrat(n):\n",
    "    return n**2\n",
    "\n",
    "kuadrat(5)"
   ]
  },
  {
   "cell_type": "code",
   "execution_count": 3,
   "id": "87ca19d3",
   "metadata": {},
   "outputs": [
    {
     "data": {
      "text/plain": [
       "<function __main__.<lambda>(n)>"
      ]
     },
     "execution_count": 3,
     "metadata": {},
     "output_type": "execute_result"
    }
   ],
   "source": [
    "# fungsi lambda -> fungsi tanpa nama yang dipakai sekali\n",
    "lambda n: n**2"
   ]
  },
  {
   "cell_type": "code",
   "execution_count": 5,
   "id": "5562e060",
   "metadata": {},
   "outputs": [
    {
     "data": {
      "text/plain": [
       "[1, 4, 9, 16, 25, 36, 49, 64, 81, 100]"
      ]
     },
     "execution_count": 5,
     "metadata": {},
     "output_type": "execute_result"
    }
   ],
   "source": [
    "[kuadrat (i) for i in range(1,11)]"
   ]
  },
  {
   "cell_type": "code",
   "execution_count": null,
   "id": "7d2945af",
   "metadata": {},
   "outputs": [
    {
     "data": {
      "text/plain": [
       "[1, 4, 9, 16, 25, 36, 49, 64, 81]"
      ]
     },
     "execution_count": 6,
     "metadata": {},
     "output_type": "execute_result"
    }
   ],
   "source": [
    "l = range(1, 10) #iterable/sequences\n",
    "# list comprehension\n",
    "[kuadrat(i) for i in l]"
   ]
  },
  {
   "cell_type": "code",
   "execution_count": 9,
   "id": "0803ea55",
   "metadata": {},
   "outputs": [
    {
     "data": {
      "text/plain": [
       "<map at 0x27d5bf3b970>"
      ]
     },
     "execution_count": 9,
     "metadata": {},
     "output_type": "execute_result"
    }
   ],
   "source": [
    "# map funcion\n",
    "map(kuadrat, l)"
   ]
  },
  {
   "cell_type": "code",
   "execution_count": 10,
   "id": "48ac53ab",
   "metadata": {},
   "outputs": [
    {
     "data": {
      "text/plain": [
       "[1, 4, 9, 16, 25, 36, 49, 64, 81]"
      ]
     },
     "execution_count": 10,
     "metadata": {},
     "output_type": "execute_result"
    }
   ],
   "source": [
    "\n",
    "list(map(kuadrat,l))"
   ]
  },
  {
   "cell_type": "code",
   "execution_count": 15,
   "id": "337c4cf0",
   "metadata": {},
   "outputs": [
    {
     "data": {
      "text/plain": [
       "[1, 4, 9, 16, 25, 36, 49, 64, 81]"
      ]
     },
     "execution_count": 15,
     "metadata": {},
     "output_type": "execute_result"
    }
   ],
   "source": [
    "list(map(lambda n: n**2, l))\n"
   ]
  },
  {
   "cell_type": "code",
   "execution_count": 16,
   "id": "f01f00eb",
   "metadata": {},
   "outputs": [
    {
     "data": {
      "text/plain": [
       "[2, 2, 2]"
      ]
     },
     "execution_count": 16,
     "metadata": {},
     "output_type": "execute_result"
    }
   ],
   "source": [
    "l2 = [1, 2, 3, 2, 4, 2]\n",
    "list(filter(lambda x:x == 2, l2))"
   ]
  }
 ],
 "metadata": {
  "kernelspec": {
   "display_name": ".venv",
   "language": "python",
   "name": "python3"
  },
  "language_info": {
   "codemirror_mode": {
    "name": "ipython",
    "version": 3
   },
   "file_extension": ".py",
   "mimetype": "text/x-python",
   "name": "python",
   "nbconvert_exporter": "python",
   "pygments_lexer": "ipython3",
   "version": "3.13.3"
  }
 },
 "nbformat": 4,
 "nbformat_minor": 5
}

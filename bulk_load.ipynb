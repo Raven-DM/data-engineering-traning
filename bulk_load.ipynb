{
 "cells": [
  {
   "cell_type": "code",
   "execution_count": 7,
   "id": "9444009b",
   "metadata": {},
   "outputs": [],
   "source": [
    "import glob"
   ]
  },
  {
   "cell_type": "code",
   "execution_count": 8,
   "id": "4d8a6b43",
   "metadata": {},
   "outputs": [
    {
     "data": {
      "text/plain": [
       "['./data/retail_db\\\\',\n",
       " './data/retail_db\\\\categories',\n",
       " './data/retail_db\\\\categories\\\\part-00000',\n",
       " './data/retail_db\\\\create_db.sql',\n",
       " './data/retail_db\\\\create_db_tables_pg.sql',\n",
       " './data/retail_db\\\\customers',\n",
       " './data/retail_db\\\\customers\\\\part-00000',\n",
       " './data/retail_db\\\\departments',\n",
       " './data/retail_db\\\\departments\\\\part-00000',\n",
       " './data/retail_db\\\\learn_rank_partition.sql',\n",
       " './data/retail_db\\\\load_db_tables_pg.sql',\n",
       " './data/retail_db\\\\orders',\n",
       " './data/retail_db\\\\orders\\\\part-00000',\n",
       " './data/retail_db\\\\order_items',\n",
       " './data/retail_db\\\\order_items\\\\part-00000',\n",
       " './data/retail_db\\\\products',\n",
       " './data/retail_db\\\\products\\\\part-00000',\n",
       " './data/retail_db\\\\README.md',\n",
       " './data/retail_db\\\\saigon_canvas.sql',\n",
       " './data/retail_db\\\\schemas.json']"
      ]
     },
     "execution_count": 8,
     "metadata": {},
     "output_type": "execute_result"
    }
   ],
   "source": [
    "glob.glob('./data/retail_db/**', recursive=True)"
   ]
  },
  {
   "cell_type": "code",
   "execution_count": 9,
   "id": "2c3c9be0",
   "metadata": {},
   "outputs": [
    {
     "data": {
      "text/plain": [
       "['./data/retail_db\\\\categories\\\\part-00000',\n",
       " './data/retail_db\\\\customers\\\\part-00000',\n",
       " './data/retail_db\\\\departments\\\\part-00000',\n",
       " './data/retail_db\\\\orders\\\\part-00000',\n",
       " './data/retail_db\\\\order_items\\\\part-00000',\n",
       " './data/retail_db\\\\products\\\\part-00000']"
      ]
     },
     "execution_count": 9,
     "metadata": {},
     "output_type": "execute_result"
    }
   ],
   "source": [
    "glob.glob('./data/retail_db/*/*')"
   ]
  },
  {
   "cell_type": "code",
   "execution_count": 10,
   "id": "05cbb2ad",
   "metadata": {},
   "outputs": [
    {
     "data": {
      "text/plain": [
       "['./data/retail_db\\\\categories\\\\part-00000',\n",
       " './data/retail_db\\\\customers\\\\part-00000',\n",
       " './data/retail_db\\\\departments\\\\part-00000',\n",
       " './data/retail_db\\\\orders\\\\part-00000',\n",
       " './data/retail_db\\\\order_items\\\\part-00000',\n",
       " './data/retail_db\\\\products\\\\part-00000']"
      ]
     },
     "execution_count": 10,
     "metadata": {},
     "output_type": "execute_result"
    }
   ],
   "source": [
    "src_file_names = glob.glob('./data/retail_db/*/part-*')\n",
    "src_file_names"
   ]
  },
  {
   "cell_type": "code",
   "execution_count": 11,
   "id": "ff8e5b6f",
   "metadata": {},
   "outputs": [],
   "source": [
    "import pandas as pd"
   ]
  },
  {
   "cell_type": "code",
   "execution_count": 14,
   "id": "8b0c1bfa",
   "metadata": {},
   "outputs": [
    {
     "name": "stdout",
     "output_type": "stream",
     "text": [
      "Shape of ./data/retail_db\\categories\\part-00000 is (58, 3)\n",
      "Shape of ./data/retail_db\\customers\\part-00000 is (12435, 9)\n",
      "Shape of ./data/retail_db\\departments\\part-00000 is (6, 2)\n",
      "Shape of ./data/retail_db\\orders\\part-00000 is (68883, 4)\n",
      "Shape of ./data/retail_db\\order_items\\part-00000 is (172198, 6)\n",
      "Shape of ./data/retail_db\\products\\part-00000 is (1345, 6)\n"
     ]
    }
   ],
   "source": [
    "for file_name in src_file_names:\n",
    "    df = pd.read_csv(file_name, header=None)\n",
    "    print(f'Shape of {file_name} is {df.shape}')"
   ]
  },
  {
   "cell_type": "code",
   "execution_count": 17,
   "id": "3cccde35",
   "metadata": {},
   "outputs": [
    {
     "data": {
      "text/plain": [
       "['s/a', 'b', 'c']"
      ]
     },
     "execution_count": 17,
     "metadata": {},
     "output_type": "execute_result"
    }
   ],
   "source": [
    "# contoh kasus split\n",
    "s = 's/a\\\\b\\\\c'\n",
    "s.split('\\\\')"
   ]
  },
  {
   "cell_type": "code",
   "execution_count": null,
   "id": "c1092128",
   "metadata": {},
   "outputs": [
    {
     "name": "stderr",
     "output_type": "stream",
     "text": [
      "<>:2: SyntaxWarning: invalid escape sequence '\\]'\n",
      "<>:2: SyntaxWarning: invalid escape sequence '\\]'\n",
      "C:\\Users\\71484\\AppData\\Local\\Temp\\ipykernel_8000\\724239284.py:2: SyntaxWarning: invalid escape sequence '\\]'\n",
      "  re.split('[/\\\\\\]', s)\n"
     ]
    },
    {
     "data": {
      "text/plain": [
       "['s', 'a', 'b', 'c']"
      ]
     },
     "execution_count": 18,
     "metadata": {},
     "output_type": "execute_result"
    }
   ],
   "source": [
    "# regular expression\n",
    "import re\n",
    "re.split('[/\\\\\\]', s)"
   ]
  },
  {
   "cell_type": "code",
   "execution_count": 33,
   "id": "e55b02cc",
   "metadata": {},
   "outputs": [
    {
     "name": "stdout",
     "output_type": "stream",
     "text": [
      "['data', 'retail_db', 'categories', 'part-00000']\n",
      "['data', 'retail_db', 'customers', 'part-00000']\n",
      "['data', 'retail_db', 'departments', 'part-00000']\n",
      "['data', 'retail_db', 'orders', 'part-00000']\n",
      "['data', 'retail_db', 'order_items', 'part-00000']\n",
      "['data', 'retail_db', 'products', 'part-00000']\n"
     ]
    }
   ],
   "source": [
    "for file in src_file_names:\n",
    "    print(re.split('[/\\\\\\\\]', file)[1:])"
   ]
  },
  {
   "cell_type": "code",
   "execution_count": null,
   "id": "d330f91b",
   "metadata": {},
   "outputs": [],
   "source": [
    "# baca setiap file(read_csv) dan tampilkan shape (baris, kolom)\n",
    "# pada setiap folder\n",
    "# menggunakan nama kolom yang ada pada schema\n",
    "# gunakan fungsi get_column_names(schemas, table)"
   ]
  },
  {
   "cell_type": "code",
   "execution_count": 23,
   "id": "8c59de9c",
   "metadata": {},
   "outputs": [
    {
     "data": {
      "text/plain": [
       "<_io.TextIOWrapper name='./data/retail_db/schemas.json' mode='r' encoding='cp1252'>"
      ]
     },
     "execution_count": 23,
     "metadata": {},
     "output_type": "execute_result"
    }
   ],
   "source": [
    "file_path = './data/retail_db/schemas.json'\n",
    "open(file_path, 'r')"
   ]
  },
  {
   "cell_type": "code",
   "execution_count": 27,
   "id": "26e6c740",
   "metadata": {},
   "outputs": [],
   "source": [
    "import json\n",
    "schemas = json.load(open(file_path, 'r'))"
   ]
  },
  {
   "cell_type": "code",
   "execution_count": 26,
   "id": "11d0b5d7",
   "metadata": {},
   "outputs": [
    {
     "data": {
      "text/plain": [
       "['customer_id',\n",
       " 'customer_fname',\n",
       " 'customer_lname',\n",
       " 'customer_email',\n",
       " 'customer_password',\n",
       " 'customer_street',\n",
       " 'customer_city',\n",
       " 'customer_state',\n",
       " 'customer_zipcode']"
      ]
     },
     "execution_count": 26,
     "metadata": {},
     "output_type": "execute_result"
    }
   ],
   "source": [
    "def get_column_names(schemas, table, key = 'column_position'):\n",
    "    column_details = schemas[table]\n",
    "    columns = sorted(column_details, key = lambda col: int(col[key]))\n",
    "    return [col['column_name'] for col in columns]\n",
    "\n",
    "get_column_names(schemas, 'customers')"
   ]
  },
  {
   "cell_type": "code",
   "execution_count": 36,
   "id": "e03e6d60",
   "metadata": {},
   "outputs": [
    {
     "name": "stdout",
     "output_type": "stream",
     "text": [
      "categories | shape(58, 3)\n",
      "customers | shape(12435, 9)\n",
      "departments | shape(6, 2)\n",
      "orders | shape(68883, 4)\n",
      "order_items | shape(172198, 6)\n",
      "products | shape(1345, 6)\n"
     ]
    }
   ],
   "source": [
    "for file in src_file_names:\n",
    "    table_name = re.split('[/\\\\\\\\]', file)[3]\n",
    "    df = pd.read_csv(file, header=None, names=get_column_names(schemas, table_name))\n",
    "    print(f\"{table_name} | shape{df.shape}\")"
   ]
  },
  {
   "cell_type": "code",
   "execution_count": 39,
   "id": "ed14fed6",
   "metadata": {},
   "outputs": [],
   "source": [
    "# target dir\n",
    "target_base_dir = './data/retail_db_json'\n",
    "table_name = (re.split('[/\\\\\\\\]', file)[-2])\n",
    "file_name = (re.split('[/\\\\\\\\]', file)[-1])"
   ]
  },
  {
   "cell_type": "code",
   "execution_count": 40,
   "id": "aac891d2",
   "metadata": {},
   "outputs": [
    {
     "name": "stdout",
     "output_type": "stream",
     "text": [
      "./data/retail_db_json/products/part-00000\n"
     ]
    }
   ],
   "source": [
    "# target\n",
    "print(f'{target_base_dir}/{table_name}/{file_name}')"
   ]
  },
  {
   "cell_type": "code",
   "execution_count": 42,
   "id": "83dc85c6",
   "metadata": {},
   "outputs": [
    {
     "name": "stdout",
     "output_type": "stream",
     "text": [
      "./data/retail_db_json/categories/part-00000\n",
      "./data/retail_db_json/customers/part-00000\n",
      "./data/retail_db_json/departments/part-00000\n",
      "./data/retail_db_json/orders/part-00000\n",
      "./data/retail_db_json/order_items/part-00000\n",
      "./data/retail_db_json/products/part-00000\n"
     ]
    }
   ],
   "source": [
    "for file in src_file_names:\n",
    "    file_path = re.split('[/\\\\\\\\]', file)\n",
    "    table_name = file_path[-2]\n",
    "    file_name = file_path[-1]\n",
    "    print(f'{target_base_dir}/{table_name}/{file_name}')"
   ]
  },
  {
   "cell_type": "code",
   "execution_count": null,
   "id": "fa1db482",
   "metadata": {},
   "outputs": [],
   "source": [
    "# membuat target dir di os\n",
    "# menulis df ke target dir di atas"
   ]
  },
  {
   "cell_type": "code",
   "execution_count": 46,
   "id": "aed9563e",
   "metadata": {},
   "outputs": [],
   "source": [
    "# 1. Buat direktori\n",
    "import os\n",
    "os.makedirs('./data/retail_db_json/products', exist_ok=True, )"
   ]
  },
  {
   "cell_type": "code",
   "execution_count": 47,
   "id": "7a0cbc9d",
   "metadata": {},
   "outputs": [],
   "source": [
    "df.to_json('./data/retail_db_json/products/part-00000',\n",
    "           orient='records',\n",
    "           lines=True\n",
    "           )"
   ]
  }
 ],
 "metadata": {
  "kernelspec": {
   "display_name": ".venv",
   "language": "python",
   "name": "python3"
  },
  "language_info": {
   "codemirror_mode": {
    "name": "ipython",
    "version": 3
   },
   "file_extension": ".py",
   "mimetype": "text/x-python",
   "name": "python",
   "nbconvert_exporter": "python",
   "pygments_lexer": "ipython3",
   "version": "3.13.3"
  }
 },
 "nbformat": 4,
 "nbformat_minor": 5
}
